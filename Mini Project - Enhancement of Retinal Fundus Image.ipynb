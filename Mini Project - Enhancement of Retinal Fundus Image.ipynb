{
 "cells": [
  {
   "cell_type": "markdown",
   "id": "8a2e5473",
   "metadata": {},
   "source": [
    "# Mini Project - Enhancement of Retinal Fundus Image\n",
       "    Ivandi Cahya Pratama (21/474944/TK/52430)\n",
      ]
  },
  {
   "cell_type": "code",
   "execution_count": 10,
   "id": "be37edab",
   "metadata": {},
   "outputs": [],
   "source": [
    "import cv2\n",
    "import numpy as np\n",
    "import matplotlib.pyplot as plt\n",
    "import os\n",
    "import pandas as pd"
   ]
  },
  {
   "cell_type": "code",
   "execution_count": 2,
   "id": "3df023d5",
   "metadata": {},
   "outputs": [],
   "source": [
    "def load_images_from_folder(folder):\n",
    "    images = []\n",
    "    for filename in os.listdir(folder):\n",
    "        img = cv2.imread(os.path.join(folder,filename))\n",
    "        if img is not None:\n",
    "            images.append(img)\n",
    "    return images"
   ]
  },
  {
   "cell_type": "code",
   "execution_count": 3,
   "id": "bb398df2",
   "metadata": {},
   "outputs": [],
   "source": [
    "def cii(img_before, img_after):\n",
    "    contrast_before = np.var(img_before)\n",
    "    contrast_after = np.var(img_after)\n",
    "    cii = (contrast_after - contrast_before) / contrast_before\n",
    "    return cii"
   ]
  },
  {
   "cell_type": "code",
   "execution_count": 4,
   "id": "136e5a38",
   "metadata": {},
   "outputs": [],
   "source": [
    "folder = 'Data'\n",
    "all_image = load_images_from_folder(folder)\n",
    "filename = os.listdir(folder)"
   ]
  },
  {
   "cell_type": "code",
   "execution_count": 19,
   "id": "1ff35493",
   "metadata": {
    "scrolled": false
   },
   "outputs": [],
   "source": [
    "df = pd.DataFrame(columns=['No', 'CII CLAHE', 'CII Color Dominance Method'])\n",
    "\n",
    "for i in range(0, len(all_image)):\n",
    "    #Step 1\n",
    "    ori_img = all_image[i]\n",
    "    \n",
    "    ori_img_rgb = cv2.cvtColor(ori_img, cv2.COLOR_BGR2RGB)\n",
    "    \n",
    "    clahe = cv2.createCLAHE(clipLimit=3.0, tileGridSize=(8,8))\n",
    "\n",
    "    theta = 1500\n",
    "    variance = np.var(ori_img_rgb[:,:,2])\n",
    "\n",
    "    lab_img = cv2.cvtColor(ori_img_rgb, cv2.COLOR_RGB2LAB)\n",
    "    l, a, b = cv2.split(lab_img)\n",
    "\n",
    "    if variance <= theta:\n",
    "        clahe_a = clahe.apply(a)\n",
    "        lab_img_merged = cv2.merge((l,clahe_a,b))\n",
    "    else:\n",
    "        clahe_b = clahe.apply(b)\n",
    "        lab_img_merged = cv2.merge((l,a,clahe_b))\n",
    "\n",
    "    step1_img = cv2.cvtColor(lab_img_merged, cv2.COLOR_LAB2RGB)\n",
    "    \n",
    "    #Step 2\n",
    "    r_img2, g_img2, b_img2 = cv2.split(step1_img)\n",
    "\n",
    "    clahe_img = clahe.apply(g_img2)\n",
    "\n",
    "    step2_img = cv2.merge((r_img2,clahe_img,b_img2))\n",
    "\n",
    "    variance2 = np.var(step2_img)\n",
    "\n",
    "    bilateral_filter = cv2.bilateralFilter(step2_img, 5, np.sqrt(variance2), np.sqrt(variance2))\n",
    "\n",
    "    grayscale_img = cv2.cvtColor(bilateral_filter, cv2.COLOR_RGB2GRAY)\n",
    "\n",
    "    gray_min = np.min(grayscale_img)\n",
    "    gray_max = np.max(grayscale_img)\n",
    "\n",
    "    alpha = 255/(gray_max-gray_min)\n",
    "    beta = -(gray_min*alpha)\n",
    "\n",
    "    result = alpha*grayscale_img+beta\n",
    "    cv2.imwrite(os.path.join('Result', f'Hasil {filename[i]}'), result)\n",
    "    \n",
    "    #Evaluasi\n",
    "    ori_img_gray = cv2.cvtColor(ori_img, cv2.COLOR_BGR2GRAY)\n",
    "\n",
    "    clahe_ori_img = clahe.apply(ori_img_gray)\n",
    "    \n",
    "    cii_clahe = cii(ori_img_gray, clahe_ori_img)\n",
    "    cii_method = cii(ori_img_gray, result)\n",
    "    \n",
    "    df = pd.concat([df, pd.DataFrame({'No': [i + 1], 'CII CLAHE': [cii_clahe], 'CII Color Dominance Method': [cii_method]})], ignore_index=True)\n",
    "\n",
    "df.to_excel('Result.xlsx', index=False)"
   ]
  },
  {
   "cell_type": "code",
   "execution_count": null,
   "id": "6a31ba0c",
   "metadata": {},
   "outputs": [],
   "source": []
  }
 ],
 "metadata": {
  "kernelspec": {
   "display_name": "Python 3 (ipykernel)",
   "language": "python",
   "name": "python3"
  },
  "language_info": {
   "codemirror_mode": {
    "name": "ipython",
    "version": 3
   },
   "file_extension": ".py",
   "mimetype": "text/x-python",
   "name": "python",
   "nbconvert_exporter": "python",
   "pygments_lexer": "ipython3",
   "version": "3.11.4"
  }
 },
 "nbformat": 4,
 "nbformat_minor": 5
}
